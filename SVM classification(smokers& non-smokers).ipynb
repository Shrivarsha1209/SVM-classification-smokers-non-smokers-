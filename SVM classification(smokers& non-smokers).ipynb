{
  "cells": [
    {
      "cell_type": "markdown",
      "source": [
        "Performing classification of smokers and non-smokers using differnt types of kernels for SVM(support vector machines) algorithms like linear kernel,polynomial kernel,rbf kernel and finding the best kernel with highest accuracy.and also performing grid search(hyperparameter tuning) to improve the models's performance."
      ],
      "metadata": {
        "id": "cZuOcvWr-Bx_"
      }
    },
    {
      "cell_type": "code",
      "execution_count": null,
      "metadata": {
        "id": "w7h983ttWoEh"
      },
      "outputs": [],
      "source": [
        "import pandas as pd\n",
        "df=pd.read_csv('/content/finaltraindata.csv')"
      ]
    },
    {
      "cell_type": "code",
      "execution_count": null,
      "metadata": {
        "id": "hgBfz_tInUl_"
      },
      "outputs": [],
      "source": [
        "import pandas as pd\n",
        "from sklearn.model_selection import train_test_split\n",
        "from sklearn.svm import SVC\n",
        "from sklearn.impute import SimpleImputer\n",
        "from sklearn.pipeline import make_pipeline\n",
        "from sklearn.metrics import accuracy_score, classification_report\n",
        "from sklearn.preprocessing import StandardScaler\n",
        "from sklearn.metrics import accuracy_score, confusion_matrix\n",
        "import seaborn as sns\n",
        "import matplotlib.pyplot as plt"
      ]
    },
    {
      "cell_type": "code",
      "execution_count": null,
      "metadata": {
        "colab": {
          "base_uri": "https://localhost:8080/"
        },
        "id": "9f4eV-nuX5ci",
        "outputId": "29d7783a-ba7a-4f91-ce36-0f891d4440f5"
      },
      "outputs": [
        {
          "output_type": "stream",
          "name": "stdout",
          "text": [
            "   id  age  height(cm)  weight(kg)  waist(cm)  eyesight(left)  \\\n",
            "0   0   55         165          60       81.0             0.5   \n",
            "1   1   70         165          65       89.0             0.6   \n",
            "2   2   20         170          75       81.0             0.4   \n",
            "3   3   35         180          95      105.0             1.5   \n",
            "4   4   30         165          60       80.5             1.5   \n",
            "\n",
            "   eyesight(right)  hearing(left)  hearing(right)  systolic  ...  HDL  LDL  \\\n",
            "0              0.6              1               1       135  ...   40   75   \n",
            "1              0.7              2               2       146  ...   57  126   \n",
            "2              0.5              1               1       118  ...   45   93   \n",
            "3              1.2              1               1       131  ...   38  102   \n",
            "4              1.0              1               1       121  ...   44   93   \n",
            "\n",
            "   hemoglobin  Urine protein  serum creatinine  AST  ALT  Gtp  dental caries  \\\n",
            "0        16.5              1               1.0   22   25   27              0   \n",
            "1        16.2              1               1.1   27   23   37              1   \n",
            "2        17.4              1               0.8   27   31   53              0   \n",
            "3        15.9              1               1.0   20   27   30              1   \n",
            "4        15.4              1               0.8   19   13   17              0   \n",
            "\n",
            "   smoking  \n",
            "0        1  \n",
            "1        0  \n",
            "2        1  \n",
            "3        0  \n",
            "4        1  \n",
            "\n",
            "[5 rows x 24 columns]\n"
          ]
        }
      ],
      "source": [
        "import pandas as pd\n",
        "import numpy as np\n",
        "\n",
        "df = pd.read_csv('/content/finaltraindata.csv')\n",
        "print(df.head())\n",
        "df = df.dropna()\n",
        "df = df.drop_duplicates()\n",
        "\n",
        "df.to_csv('preprocessed_dataset.csv', index=False)"
      ]
    },
    {
      "cell_type": "code",
      "execution_count": null,
      "metadata": {
        "id": "nEv-sro0R-FL"
      },
      "outputs": [],
      "source": [
        "import pandas as pd\n",
        "import numpy as np\n",
        "d=pd.read_csv('/content/preprocessed_dataset.csv')"
      ]
    },
    {
      "cell_type": "code",
      "execution_count": null,
      "metadata": {
        "id": "5rj7zA9pnd5f"
      },
      "outputs": [],
      "source": [
        "X = d.drop('smoking', axis=1)\n",
        "y = d['smoking']\n",
        "\n",
        "X_train, X_test, y_train, y_test = train_test_split(X, y, test_size=0.2, random_state=42)"
      ]
    },
    {
      "cell_type": "markdown",
      "source": [
        "linear kernel svm\n"
      ],
      "metadata": {
        "id": "TMwA9uyX_Owg"
      }
    },
    {
      "cell_type": "code",
      "execution_count": null,
      "metadata": {
        "colab": {
          "base_uri": "https://localhost:8080/"
        },
        "id": "XgGQz2CQcjHX",
        "outputId": "c40bdaf1-a248-4847-fa5b-c75a2f237d23"
      },
      "outputs": [
        {
          "output_type": "stream",
          "name": "stdout",
          "text": [
            "[1 1 1 ... 1 0 0]\n"
          ]
        }
      ],
      "source": [
        "pipeline = make_pipeline(\n",
        "    SimpleImputer(strategy='mean'),\n",
        "    StandardScaler(),\n",
        "    SVC(kernel='linear')\n",
        ")\n",
        "\n",
        "pipeline.fit(X_train, y_train)\n",
        "\n",
        "y_pred = pipeline.predict(X_test)\n",
        "\n",
        "print(y_pred)\n"
      ]
    },
    {
      "cell_type": "code",
      "execution_count": null,
      "metadata": {
        "colab": {
          "base_uri": "https://localhost:8080/",
          "height": 792
        },
        "id": "OWtYGCzOc-EX",
        "outputId": "e5271e2a-db7c-4a53-de96-c1b80c4cf47b"
      },
      "outputs": [
        {
          "output_type": "stream",
          "name": "stdout",
          "text": [
            "Accuracy: 0.7541229385307346\n",
            "classification report:\n",
            "              precision    recall  f1-score   support\n",
            "\n",
            "           0       0.79      0.74      0.76      1079\n",
            "           1       0.72      0.77      0.74       922\n",
            "\n",
            "    accuracy                           0.75      2001\n",
            "   macro avg       0.75      0.76      0.75      2001\n",
            "weighted avg       0.76      0.75      0.75      2001\n",
            "\n",
            "confusion matrix\n"
          ]
        },
        {
          "output_type": "display_data",
          "data": {
            "text/plain": [
              "<Figure size 800x600 with 2 Axes>"
            ],
            "image/png": "[encoded data removed]"
          },
          "metadata": {}
        }
      ],
      "source": [
        "accuracy = accuracy_score(y_test, y_pred)\n",
        "print(f'Accuracy: {accuracy}')\n",
        "\n",
        "print('classification report:')\n",
        "print(classification_report(y_test, y_pred))\n",
        "cm = confusion_matrix(y_test, y_pred)\n",
        "print('confusion matrix')\n",
        "\n",
        "plt.figure(figsize=(8, 6))\n",
        "sns.heatmap(cm, annot=True, fmt='d', cmap='Blues')\n",
        "\n",
        "class_labels = df['smoking'].unique()\n",
        "plt.xticks(ticks=range(len(class_labels)), labels=class_labels, rotation=45)\n",
        "plt.yticks(ticks=range(len(class_labels)), labels=class_labels, rotation=0)\n",
        "\n",
        "plt.xlabel('Predicted')\n",
        "plt.ylabel('True')\n",
        "plt.title('Confusion Matrix')\n",
        "plt.show()\n",
        "\n"
      ]
    },
    {
      "cell_type": "markdown",
      "source": [
        "polynomial kernel svm"
      ],
      "metadata": {
        "id": "0SkoIYuM_SWx"
      }
    },
    {
      "cell_type": "code",
      "execution_count": null,
      "metadata": {
        "colab": {
          "base_uri": "https://localhost:8080/",
          "height": 76
        },
        "id": "0CB-jfuAmu5I",
        "outputId": "0833e12f-28a9-492b-8404-ab913146496f"
      },
      "outputs": [
        {
          "output_type": "execute_result",
          "data": {
            "text/plain": [
              "SVC(kernel='poly')"
            ],
            "text/html": [
              "<style>#sk-container-id-2 {color: black;background-color: white;}#sk-container-id-2 pre{padding: 0;}#sk-container-id-2 div.sk-toggleable {background-color: white;}#sk-container-id-2 label.sk-toggleable__label {cursor: pointer;display: block;width: 100%;margin-bottom: 0;padding: 0.3em;box-sizing: border-box;text-align: center;}#sk-container-id-2 label.sk-toggleable__label-arrow:before {content: \"▸\";float: left;margin-right: 0.25em;color: #696969;}#sk-container-id-2 label.sk-toggleable__label-arrow:hover:before {color: black;}#sk-container-id-2 div.sk-estimator:hover label.sk-toggleable__label-arrow:before {color: black;}#sk-container-id-2 div.sk-toggleable__content {max-height: 0;max-width: 0;overflow: hidden;text-align: left;background-color: #f0f8ff;}#sk-container-id-2 div.sk-toggleable__content pre {margin: 0.2em;color: black;border-radius: 0.25em;background-color: #f0f8ff;}#sk-container-id-2 input.sk-toggleable__control:checked~div.sk-toggleable__content {max-height: 200px;max-width: 100%;overflow: auto;}#sk-container-id-2 input.sk-toggleable__control:checked~label.sk-toggleable__label-arrow:before {content: \"▾\";}#sk-container-id-2 div.sk-estimator input.sk-toggleable__control:checked~label.sk-toggleable__label {background-color: #d4ebff;}#sk-container-id-2 div.sk-label input.sk-toggleable__control:checked~label.sk-toggleable__label {background-color: #d4ebff;}#sk-container-id-2 input.sk-hidden--visually {border: 0;clip: rect(1px 1px 1px 1px);clip: rect(1px, 1px, 1px, 1px);height: 1px;margin: -1px;overflow: hidden;padding: 0;position: absolute;width: 1px;}#sk-container-id-2 div.sk-estimator {font-family: monospace;background-color: #f0f8ff;border: 1px dotted black;border-radius: 0.25em;box-sizing: border-box;margin-bottom: 0.5em;}#sk-container-id-2 div.sk-estimator:hover {background-color: #d4ebff;}#sk-container-id-2 div.sk-parallel-item::after {content: \"\";width: 100%;border-bottom: 1px solid gray;flex-grow: 1;}#sk-container-id-2 div.sk-label:hover label.sk-toggleable__label {background-color: #d4ebff;}#sk-container-id-2 div.sk-serial::before {content: \"\";position: absolute;border-left: 1px solid gray;box-sizing: border-box;top: 0;bottom: 0;left: 50%;z-index: 0;}#sk-container-id-2 div.sk-serial {display: flex;flex-direction: column;align-items: center;background-color: white;padding-right: 0.2em;padding-left: 0.2em;position: relative;}#sk-container-id-2 div.sk-item {position: relative;z-index: 1;}#sk-container-id-2 div.sk-parallel {display: flex;align-items: stretch;justify-content: center;background-color: white;position: relative;}#sk-container-id-2 div.sk-item::before, #sk-container-id-2 div.sk-parallel-item::before {content: \"\";position: absolute;border-left: 1px solid gray;box-sizing: border-box;top: 0;bottom: 0;left: 50%;z-index: -1;}#sk-container-id-2 div.sk-parallel-item {display: flex;flex-direction: column;z-index: 1;position: relative;background-color: white;}#sk-container-id-2 div.sk-parallel-item:first-child::after {align-self: flex-end;width: 50%;}#sk-container-id-2 div.sk-parallel-item:last-child::after {align-self: flex-start;width: 50%;}#sk-container-id-2 div.sk-parallel-item:only-child::after {width: 0;}#sk-container-id-2 div.sk-dashed-wrapped {border: 1px dashed gray;margin: 0 0.4em 0.5em 0.4em;box-sizing: border-box;padding-bottom: 0.4em;background-color: white;}#sk-container-id-2 div.sk-label label {font-family: monospace;font-weight: bold;display: inline-block;line-height: 1.2em;}#sk-container-id-2 div.sk-label-container {text-align: center;}#sk-container-id-2 div.sk-container {/* jupyter's `normalize.less` sets `[hidden] { display: none; }` but bootstrap.min.css set `[hidden] { display: none !important; }` so we also need the `!important` here to be able to override the default hidden behavior on the sphinx rendered scikit-learn.org. See: https://github.com/scikit-learn/scikit-learn/issues/21755 */display: inline-block !important;position: relative;}#sk-container-id-2 div.sk-text-repr-fallback {display: none;}</style><div id=\"sk-container-id-2\" class=\"sk-top-container\"><div class=\"sk-text-repr-fallback\"><pre>SVC(kernel=&#x27;poly&#x27;)</pre><b>In a Jupyter environment, please rerun this cell to show the HTML representation or trust the notebook. <br />On GitHub, the HTML representation is unable to render, please try loading this page with nbviewer.org.</b></div><div class=\"sk-container\" hidden><div class=\"sk-item\"><div class=\"sk-estimator sk-toggleable\"><input class=\"sk-toggleable__control sk-hidden--visually\" id=\"sk-estimator-id-2\" type=\"checkbox\" checked><label for=\"sk-estimator-id-2\" class=\"sk-toggleable__label sk-toggleable__label-arrow\">SVC</label><div class=\"sk-toggleable__content\"><pre>SVC(kernel=&#x27;poly&#x27;)</pre></div></div></div></div></div>"
            ]
          },
          "metadata": {},
          "execution_count": 13
        }
      ],
      "source": [
        "\n",
        "from sklearn import datasets\n",
        "from sklearn.model_selection import train_test_split\n",
        "from sklearn.svm import SVC\n",
        "from sklearn.metrics import accuracy_score\n",
        "\n",
        "\n",
        "svm_model_poly = SVC(kernel='poly', degree=3)\n",
        "\n",
        "svm_model_poly.fit(X_train, y_train)\n"
      ]
    },
    {
      "cell_type": "code",
      "execution_count": null,
      "metadata": {
        "colab": {
          "base_uri": "https://localhost:8080/",
          "height": 584
        },
        "id": "SLUgMTckUClP",
        "outputId": "6ee56e78-f3ab-4270-c95c-fcb54580ec05"
      },
      "outputs": [
        {
          "output_type": "stream",
          "name": "stdout",
          "text": [
            "Accuracy with polynomial kernel: 0.5912043978010995\n"
          ]
        },
        {
          "output_type": "display_data",
          "data": {
            "text/plain": [
              "<Figure size 800x600 with 2 Axes>"
            ],
            "image/png": "[encoded data removed]"
          },
          "metadata": {}
        }
      ],
      "source": [
        "\n",
        "from sklearn.metrics import accuracy_score, confusion_matrix\n",
        "\n",
        "y_pred_polys = svm_model_poly.predict(X_test)\n",
        "accuracy_polys = accuracy_score(y_test, y_pred_polys)\n",
        "print(f'Accuracy with polynomial kernel: {accuracy_polys}')\n",
        "\n",
        "cm = confusion_matrix(y_test, y_pred_poly)\n",
        "\n",
        "plt.figure(figsize=(8,6))\n",
        "sns.heatmap(cm, annot=True, fmt='d', cmap='Blues')\n",
        "\n",
        "class_labels = df['smoking'].unique()\n",
        "plt.xticks(ticks=range(len(class_labels)), labels=class_labels, rotation=45)\n",
        "plt.yticks(ticks=range(len(class_labels)), labels=class_labels, rotation=0)\n",
        "\n",
        "plt.xlabel('Predicted')\n",
        "plt.ylabel('True')\n",
        "plt.title('Confusion Matrix')\n",
        "plt.show()\n"
      ]
    },
    {
      "cell_type": "markdown",
      "source": [
        "rbf kernel"
      ],
      "metadata": {
        "id": "NPjx2Tzq_XgG"
      }
    },
    {
      "cell_type": "code",
      "execution_count": null,
      "metadata": {
        "colab": {
          "base_uri": "https://localhost:8080/"
        },
        "id": "WhoNTHTIXBN7",
        "outputId": "9e7985d9-a08f-43da-d721-9022defa98d1"
      },
      "outputs": [
        {
          "output_type": "stream",
          "name": "stdout",
          "text": [
            "Accuracy with RBF kernel: 0.5632183908045977\n"
          ]
        }
      ],
      "source": [
        "svm_model_rbf = SVC(kernel='rbf')\n",
        "\n",
        "svm_model_rbf.fit(X_train, y_train)\n",
        "\n",
        "y_pred_rbf = svm_model_rbf.predict(X_test)\n",
        "\n",
        "accuracy_rbf = accuracy_score(y_test, y_pred_rbf)\n",
        "print(f'Accuracy with RBF kernel: {accuracy_rbf}')\n"
      ]
    },
    {
      "cell_type": "code",
      "execution_count": null,
      "metadata": {
        "colab": {
          "base_uri": "https://localhost:8080/",
          "height": 584
        },
        "id": "m1wG9SMkUYfH",
        "outputId": "b69e14e6-cbb6-486d-c693-09eca3a1c81b"
      },
      "outputs": [
        {
          "output_type": "stream",
          "name": "stdout",
          "text": [
            "Accuracy with RBF kernel: 0.5632183908045977\n"
          ]
        },
        {
          "output_type": "display_data",
          "data": {
            "text/plain": [
              "<Figure size 800x600 with 2 Axes>"
            ],
            "image/png": "[encoded data removed]"
          },
          "metadata": {}
        }
      ],
      "source": [
        "accuracy_rbf = accuracy_score(y_test, y_pred_rbf)\n",
        "print(f'Accuracy with RBF kernel: {accuracy_rbf}')\n",
        "\n",
        "cm_rbf = confusion_matrix(y_test,y_pred_rbf)\n",
        "\n",
        "plt.figure(figsize=(8, 6))\n",
        "sns.heatmap(cm_rbf, annot=True, fmt='d', cmap='Blues')\n",
        "\n",
        "class_labels = df['smoking'].unique()\n",
        "plt.xticks(ticks=range(len(class_labels)), labels=class_labels, rotation=45)\n",
        "plt.yticks(ticks=range(len(class_labels)), labels=class_labels, rotation=0)\n",
        "\n",
        "plt.xlabel('Predicted')\n",
        "plt.ylabel('True')\n",
        "plt.title('Confusion Matrix-RBF Kernel')\n",
        "plt.show()\n"
      ]
    },
    {
      "cell_type": "markdown",
      "source": [
        "grid search(hyperparameter tuning)"
      ],
      "metadata": {
        "id": "qoGnGRKd_nHL"
      }
    },
    {
      "cell_type": "code",
      "execution_count": null,
      "metadata": {
        "id": "aU_aw5Q2W1gI",
        "colab": {
          "base_uri": "https://localhost:8080/"
        },
        "outputId": "fe03eb59-8f76-4257-d42d-962b88ef704a"
      },
      "outputs": [
        {
          "output_type": "stream",
          "name": "stdout",
          "text": [
            "Best Parameters: {'C': 0.1, 'gamma': 0.01}\n",
            "Accuracy with Optimal Parameters: 0.5392303848075962\n"
          ]
        }
      ],
      "source": [
        "from sklearn.model_selection import GridSearchCV\n",
        "\n",
        "param_grid = {'C': [0.1, 1, 10, 100],\n",
        "              'gamma': [0.01, 0.1, 1, 10]}\n",
        "\n",
        "svm_model_rbf = SVC(kernel='rbf')\n",
        "\n",
        "grid_search = GridSearchCV(svm_model_rbf, param_grid, cv=5, scoring='accuracy')\n",
        "grid_search.fit(X_train, y_train)\n",
        "\n",
        "best_params = grid_search.best_params_\n",
        "print(f'Best Parameters: {best_params}')\n",
        "\n",
        "best_model = grid_search.best_estimator_\n",
        "y_pred_best = best_model.predict(X_test)\n",
        "\n",
        "accuracy_best = accuracy_score(y_test, y_pred_best)\n",
        "print(f'Accuracy with Optimal Parameters: {accuracy_best}')"
      ]
    },
    {
      "cell_type": "code",
      "source": [
        "from sklearn.metrics import classification_report, confusion_matrix\n",
        "\n",
        "final_model = SVC(kernel='rbf', C=best_params['C'], gamma=best_params['gamma'])\n",
        "final_model.fit(X_train, y_train)\n",
        "y_pred_final = final_model.predict(X_test)\n",
        "\n",
        "accuracy_final = accuracy_score(y_test, y_pred_final)\n",
        "print(f'Accuracy with Final Model: {accuracy_final}')\n",
        "print('Classification Report:')\n",
        "print(classification_report(y_test, y_pred_final))\n",
        "\n",
        "cm_final = confusion_matrix(y_test, y_pred_final)\n",
        "\n",
        "plt.figure(figsize=(8, 6))\n",
        "sns.heatmap(cm_final, annot=True, fmt='d', cmap='Blues')\n",
        "\n",
        "class_labels = df['smoking'].unique()\n",
        "plt.xticks(ticks=range(len(class_labels)), labels=class_labels, rotation=45)\n",
        "plt.yticks(ticks=range(len(class_labels)), labels=class_labels, rotation=0)\n",
        "plt.xlabel('Predicted')\n",
        "plt.ylabel('True')\n",
        "plt.title('Confusion Matrix - Final Model')\n",
        "plt.show()"
      ],
      "metadata": {
        "colab": {
          "base_uri": "https://localhost:8080/",
          "height": 897
        },
        "id": "IMyir4hfAapT",
        "outputId": "3134a089-a972-4e18-feaf-b9603fc52055"
      },
      "execution_count": null,
      "outputs": [
        {
          "output_type": "stream",
          "name": "stdout",
          "text": [
            "Accuracy with Final Model: 0.5392303848075962\n",
            "Classification Report:\n",
            "              precision    recall  f1-score   support\n",
            "\n",
            "           0       0.54      1.00      0.70      1079\n",
            "           1       0.00      0.00      0.00       922\n",
            "\n",
            "    accuracy                           0.54      2001\n",
            "   macro avg       0.27      0.50      0.35      2001\n",
            "weighted avg       0.29      0.54      0.38      2001\n",
            "\n"
          ]
        },
        {
          "output_type": "stream",
          "name": "stderr",
          "text": [
            "/usr/local/lib/python3.10/dist-packages/sklearn/metrics/_classification.py:1344: UndefinedMetricWarning: Precision and F-score are ill-defined and being set to 0.0 in labels with no predicted samples. Use `zero_division` parameter to control this behavior.\n",
            "  _warn_prf(average, modifier, msg_start, len(result))\n",
            "/usr/local/lib/python3.10/dist-packages/sklearn/metrics/_classification.py:1344: UndefinedMetricWarning: Precision and F-score are ill-defined and being set to 0.0 in labels with no predicted samples. Use `zero_division` parameter to control this behavior.\n",
            "  _warn_prf(average, modifier, msg_start, len(result))\n",
            "/usr/local/lib/python3.10/dist-packages/sklearn/metrics/_classification.py:1344: UndefinedMetricWarning: Precision and F-score are ill-defined and being set to 0.0 in labels with no predicted samples. Use `zero_division` parameter to control this behavior.\n",
            "  _warn_prf(average, modifier, msg_start, len(result))\n"
          ]
        },
        {
          "output_type": "display_data",
          "data": {
            "text/plain": [
              "<Figure size 800x600 with 2 Axes>"
            ],
            "image/png": "[encoded data removed]"
          },
          "metadata": {}
        }
      ]
    },
    {
      "cell_type": "markdown",
      "source": [
        "linear kernel performs better with highest accuracy\n"
      ],
      "metadata": {
        "id": "rGf7_2INABU7"
      }
    }
  ],
  "metadata": {
    "colab": {
      "provenance": []
    },
    "kernelspec": {
      "display_name": "Python 3",
      "name": "python3"
    },
    "language_info": {
      "name": "python"
    }
  },
  "nbformat": 4,
  "nbformat_minor": 0
}